{
 "cells": [
  {
   "cell_type": "code",
   "execution_count": 3,
   "metadata": {},
   "outputs": [],
   "source": [
    "from docx import Document\n",
    "import pandas as pd"
   ]
  },
  {
   "cell_type": "code",
   "execution_count": 16,
   "metadata": {},
   "outputs": [
    {
     "name": "stdout",
     "output_type": "stream",
     "text": [
      "\n",
      "\n",
      "\n",
      "\n",
      "\n",
      "\tMEU CONVITE GENERICO \n",
      "\n",
      "DE: Senhor Starck Overflow\n",
      "Ao: Senhor Git Git\n",
      "\n",
      "\tEscrita em 1938, a narrativa que reflete a aridez do sertão abre uma janela para o leitor. O apuro estético do autor dá liberdade para quem quiser começar a história do final ou do meio ou pelas páginas que escolher. Cada um dos 13 capítulos tem o seu próprio enredo. A estética do romance não propõe fim nem começo. Assim, o escritor, entre os mais importantes da segunda fase modernista, desenha a vida do sertanejo em um círculo. Ou uma espiral. Como uma roda viva.\n",
      "\tPara refletir com o leitor empenhado nas leituras para o vestibular, o jornal da USP entrevista Thiago Mio Salla, doutor em Letras e Ciências da Comunicação e professor da Escola de Comunicações e Artes (ECA) da USP. “Para além das exigências da prova, a expectativa é de que o vestibulando se deixe fascinar pela beleza do texto de Graciliano, que, tal como um artesão meticuloso, vai esculpindo e colocando em sequência os quadros da vida de Fabiano, de Sinha Vitória, da cachorra Baleia, dos meninos”, observa Salla. “Ao mesmo tempo, faz ressoar a voz de todos esses personagens juntamente com sua própria voz de narrador, por meio de uma linguagem concisa, substantiva. Paralelamente, espero que os leitores vestibulandos se sensibilizem com a forte mensagem social que dá vida e atualidade ao livro.”\n",
      "\n"
     ]
    }
   ],
   "source": [
    "#Cria um objeto document para interarmos sobre os paragrafos do convite\n",
    "document = Document(\"generrec_exemple.docx\")\n",
    "\n",
    "'''     Importante para identificar os paragrafos,\n",
    "    pois em nossa solução efetuaremos a substituição \n",
    "    do mesmo com as coreções desejadas, no exemplo em \n",
    "    questão o texto que desejamos substituir está isolado.\n",
    "'''\n",
    "for paragraph in document.paragraphs:\n",
    "    print (paragraph.text)\n"
   ]
  },
  {
   "cell_type": "code",
   "execution_count": 29,
   "metadata": {},
   "outputs": [
    {
     "data": {
      "text/plain": [
       "'Ao: Senhor Git Git'"
      ]
     },
     "execution_count": 29,
     "metadata": {},
     "output_type": "execute_result"
    }
   ],
   "source": [
    "#paragrafo 8\n",
    "document.paragraphs[8].text"
   ]
  },
  {
   "cell_type": "code",
   "execution_count": 23,
   "metadata": {},
   "outputs": [
    {
     "data": {
      "text/html": [
       "<div>\n",
       "<style scoped>\n",
       "    .dataframe tbody tr th:only-of-type {\n",
       "        vertical-align: middle;\n",
       "    }\n",
       "\n",
       "    .dataframe tbody tr th {\n",
       "        vertical-align: top;\n",
       "    }\n",
       "\n",
       "    .dataframe thead th {\n",
       "        text-align: right;\n",
       "    }\n",
       "</style>\n",
       "<table border=\"1\" class=\"dataframe\">\n",
       "  <thead>\n",
       "    <tr style=\"text-align: right;\">\n",
       "      <th></th>\n",
       "      <th>Pessoas</th>\n",
       "    </tr>\n",
       "  </thead>\n",
       "  <tbody>\n",
       "    <tr>\n",
       "      <th>0</th>\n",
       "      <td>Ao: Sr. Java</td>\n",
       "    </tr>\n",
       "    <tr>\n",
       "      <th>1</th>\n",
       "      <td>Ao: Sr. Pitão</td>\n",
       "    </tr>\n",
       "    <tr>\n",
       "      <th>2</th>\n",
       "      <td>Ao: Sr. C_zinho</td>\n",
       "    </tr>\n",
       "    <tr>\n",
       "      <th>3</th>\n",
       "      <td>Ao: Sr. C_zão</td>\n",
       "    </tr>\n",
       "    <tr>\n",
       "      <th>4</th>\n",
       "      <td>Ao: Sr. Keras</td>\n",
       "    </tr>\n",
       "  </tbody>\n",
       "</table>\n",
       "</div>"
      ],
      "text/plain": [
       "           Pessoas\n",
       "0     Ao: Sr. Java\n",
       "1    Ao: Sr. Pitão\n",
       "2  Ao: Sr. C_zinho\n",
       "3    Ao: Sr. C_zão\n",
       "4    Ao: Sr. Keras"
      ]
     },
     "execution_count": 23,
     "metadata": {},
     "output_type": "execute_result"
    }
   ],
   "source": [
    "#lendo csv com a lista de pessoas \n",
    "df = pd.read_csv(\"Name_people.csv\")\n",
    "df"
   ]
  },
  {
   "cell_type": "code",
   "execution_count": 30,
   "metadata": {},
   "outputs": [],
   "source": [
    "for i, row in df.iterrows():\n",
    "    document.paragraphs[8].text = row[\"Pessoas\"]\n",
    "    document.save(\"Convite\" + row[\"Pessoas\"] + \"docx\")"
   ]
  },
  {
   "cell_type": "code",
   "execution_count": null,
   "metadata": {},
   "outputs": [],
   "source": []
  }
 ],
 "metadata": {
  "kernelspec": {
   "display_name": "Python 3",
   "language": "python",
   "name": "python3"
  },
  "language_info": {
   "codemirror_mode": {
    "name": "ipython",
    "version": 3
   },
   "file_extension": ".py",
   "mimetype": "text/x-python",
   "name": "python",
   "nbconvert_exporter": "python",
   "pygments_lexer": "ipython3",
   "version": "3.8.10"
  },
  "orig_nbformat": 4
 },
 "nbformat": 4,
 "nbformat_minor": 2
}
